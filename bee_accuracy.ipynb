{
 "cells": [
  {
   "cell_type": "code",
   "execution_count": 41,
   "metadata": {
    "collapsed": false
   },
   "outputs": [],
   "source": [
    "import os\n",
    "from tqdm import tqdm\n",
    "from PIL import Image\n",
    "import matplotlib as mpl\n",
    "import matplotlib.pyplot as plt\n",
    "import seaborn as sns\n",
    "import pandas as pd\n",
    "import numpy as np\n",
    "from matplotlib import rc_params\n",
    "from skimage.feature import daisy\n",
    "from skimage.feature import hog\n",
    "from skimage.color import rgb2gray\n",
    "from skimage.exposure import equalize_hist\n",
    "from sklearn.preprocessing import StandardScaler\n",
    "from sklearn.preprocessing import Imputer\n",
    "from sklearn.decomposition import PCA\n",
    "from sklearn.decomposition import FastICA\n",
    "from sklearn import svm\n",
    "from sklearn.cross_validation import train_test_split\n",
    "from sklearn.grid_search import GridSearchCV\n",
    "from sklearn.metrics import roc_curve, auc\n",
    "%matplotlib inline\n",
    "\n",
    "# load the labels using pandas\n",
    "labels = pd.read_csv(\"data/train_labels.csv\",index_col=0)\n",
    "\n",
    "from image_prep import create_feature_matrix"
   ]
  },
  {
   "cell_type": "code",
   "execution_count": 32,
   "metadata": {
    "collapsed": false
   },
   "outputs": [],
   "source": [
    "bees_features = np.load(\"bees_features3.npy\")"
   ]
  },
  {
   "cell_type": "code",
   "execution_count": 33,
   "metadata": {
    "collapsed": false
   },
   "outputs": [
    {
     "data": {
      "text/plain": [
       "(3969, 168046)"
      ]
     },
     "execution_count": 33,
     "metadata": {},
     "output_type": "execute_result"
    }
   ],
   "source": [
    "ss = StandardScaler()\n",
    "bees_stand = ss.fit_transform(bees_features)\n",
    "bees_stand.shape"
   ]
  },
  {
   "cell_type": "markdown",
   "metadata": {},
   "source": [
    "### PCA Analysis"
   ]
  },
  {
   "cell_type": "code",
   "execution_count": 18,
   "metadata": {
    "collapsed": false
   },
   "outputs": [],
   "source": [
    "pca = PCA(n_components=4000)\n",
    "bees_pca = pca.fit_transform(bees_stand)"
   ]
  },
  {
   "cell_type": "code",
   "execution_count": 34,
   "metadata": {
    "collapsed": true
   },
   "outputs": [],
   "source": [
    "#np.save(\"bees_pca_regular.npy\", bees_pca)\n",
    "bbes_pca = np.load(\"bees_pca_regular.npy\")"
   ]
  },
  {
   "cell_type": "markdown",
   "metadata": {},
   "source": [
    "### SVC Analysis"
   ]
  },
  {
   "cell_type": "code",
   "execution_count": 35,
   "metadata": {
    "collapsed": true
   },
   "outputs": [],
   "source": [
    "X_train, X_test, y_train, y_test = train_test_split(bees_pca,labels.genus.values,test_size=.2,random_state=1234)"
   ]
  },
  {
   "cell_type": "code",
   "execution_count": 36,
   "metadata": {
    "collapsed": false
   },
   "outputs": [],
   "source": [
    "#svc = svm.SVC(C = 1, kernel = 'poly', degree = 5, class_weight='auto', probability=True)\n",
    "\n",
    "#svc.fit(X_train, y_train)"
   ]
  },
  {
   "cell_type": "code",
   "execution_count": 37,
   "metadata": {
    "collapsed": false
   },
   "outputs": [
    {
     "name": "stdout",
     "output_type": "stream",
     "text": [
      "Fitting 3 folds for each of 1 candidates, totalling 3 fits\n",
      "[CV] kernel=poly, C=1, degree=5 ......................................\n",
      "[CV] ............................. kernel=poly, C=1, degree=5 - 2.0min\n",
      "[CV] kernel=poly, C=1, degree=5 ......................................\n",
      "[CV] ............................. kernel=poly, C=1, degree=5 - 1.8min\n",
      "[CV] kernel=poly, C=1, degree=5 ......................................\n",
      "[CV] ............................. kernel=poly, C=1, degree=5 - 1.8min"
     ]
    },
    {
     "name": "stderr",
     "output_type": "stream",
     "text": [
      "[Parallel(n_jobs=1)]: Done   1 jobs       | elapsed:  2.0min\n",
      "[Parallel(n_jobs=1)]: Done   3 out of   3 | elapsed:  5.7min finished\n"
     ]
    },
    {
     "name": "stdout",
     "output_type": "stream",
     "text": [
      "\n"
     ]
    },
    {
     "data": {
      "text/plain": [
       "GridSearchCV(cv=3, error_score='raise',\n",
       "       estimator=SVC(C=1.0, cache_size=200, class_weight='auto', coef0=0.0, degree=3,\n",
       "  gamma=0.0, kernel='rbf', max_iter=-1, probability=True,\n",
       "  random_state=None, shrinking=True, tol=0.001, verbose=False),\n",
       "       fit_params={}, iid=True, loss_func=None, n_jobs=1,\n",
       "       param_grid={'kernel': ['poly'], 'C': [1], 'degree': [5]},\n",
       "       pre_dispatch='2*n_jobs', refit=True, score_func=None, scoring=None,\n",
       "       verbose=2)"
      ]
     },
     "execution_count": 37,
     "metadata": {},
     "output_type": "execute_result"
    }
   ],
   "source": [
    "tuned_parameters = {'kernel': ['poly'], 'degree': [5],'C': [1]}\n",
    "\n",
    "svc = svm.SVC()\n",
    "\n",
    "gs = GridSearchCV(svm.SVC(class_weight='auto', probability=True),param_grid=tuned_parameters, cv = 3, verbose= 2)\n",
    "gs.fit(X_train, y_train)"
   ]
  },
  {
   "cell_type": "code",
   "execution_count": 38,
   "metadata": {
    "collapsed": true
   },
   "outputs": [],
   "source": [
    "preds = gs.best_estimator_.predict_proba(X_test)"
   ]
  },
  {
   "cell_type": "code",
   "execution_count": 39,
   "metadata": {
    "collapsed": false
   },
   "outputs": [
    {
     "data": {
      "image/png": "[encoded data removed]",
      "text/plain": [
       "<matplotlib.figure.Figure at 0x10427cfd0>"
      ]
     },
     "metadata": {},
     "output_type": "display_data"
    }
   ],
   "source": [
    "from sklearn.metrics import roc_curve, auc\n",
    "\n",
    "false_positive_rate, true_positive_rate, thresholds = roc_curve(y_test,\n",
    "                                                                preds[:, 1],\n",
    "                                                                pos_label=1)\n",
    "\n",
    "roc_auc = auc(false_positive_rate, true_positive_rate)\n",
    "\n",
    "plt.title('Receiver Operating Characteristic')\n",
    "plt.plot(false_positive_rate,\n",
    "         true_positive_rate,\n",
    "         label='AUC = {:0.2f}'.format(roc_auc))\n",
    "\n",
    "plt.legend(loc=0)\n",
    "plt.plot([0,1], [0,1], ls='--')\n",
    "plt.ylabel('True Positive Rate')\n",
    "plt.xlabel('False Positive Rate')\n",
    "plt.show()"
   ]
  },
  {
   "cell_type": "code",
   "execution_count": 42,
   "metadata": {
    "collapsed": false
   },
   "outputs": [
    {
     "name": "stderr",
     "output_type": "stream",
     "text": []
    },
    {
     "ename": "ValueError",
     "evalue": "operands could not be broadcast together with shapes (992,168046) (168742,) ",
     "output_type": "error",
     "traceback": [
      "\u001b[0;31m---------------------------------------------------------------------------\u001b[0m",
      "\u001b[0;31mValueError\u001b[0m                                Traceback (most recent call last)",
      "\u001b[0;32m<ipython-input-42-636e85e02bfb>\u001b[0m in \u001b[0;36m<module>\u001b[0;34m()\u001b[0m\n\u001b[1;32m     19\u001b[0m     \u001b[0;32mreturn\u001b[0m \u001b[0mprediction_df\u001b[0m\u001b[0;34m\u001b[0m\u001b[0m\n\u001b[1;32m     20\u001b[0m \u001b[0;34m\u001b[0m\u001b[0m\n\u001b[0;32m---> 21\u001b[0;31m \u001b[0mpred_df\u001b[0m \u001b[0;34m=\u001b[0m \u001b[0mmake_predictions\u001b[0m\u001b[0;34m(\u001b[0m\u001b[0msf\u001b[0m\u001b[0;34m,\u001b[0m \u001b[0moutput_filepath\u001b[0m\u001b[0;34m=\u001b[0m\u001b[0;34m\"raw_hog_daisy_rbf.csv\"\u001b[0m\u001b[0;34m)\u001b[0m\u001b[0;34m\u001b[0m\u001b[0m\n\u001b[0m\u001b[1;32m     22\u001b[0m \u001b[0mpred_df\u001b[0m\u001b[0;34m.\u001b[0m\u001b[0mhead\u001b[0m\u001b[0;34m(\u001b[0m\u001b[0;34m)\u001b[0m\u001b[0;34m\u001b[0m\u001b[0m\n",
      "\u001b[0;32m<ipython-input-42-636e85e02bfb>\u001b[0m in \u001b[0;36mmake_predictions\u001b[0;34m(submission_format_df, output_filepath)\u001b[0m\n\u001b[1;32m      7\u001b[0m     \u001b[0mtest_features\u001b[0m \u001b[0;34m=\u001b[0m \u001b[0mcreate_feature_matrix\u001b[0m\u001b[0;34m(\u001b[0m\u001b[0msubmission_format_df\u001b[0m\u001b[0;34m)\u001b[0m\u001b[0;34m\u001b[0m\u001b[0m\n\u001b[1;32m      8\u001b[0m     \u001b[0mtest_features_stand\u001b[0m \u001b[0;34m=\u001b[0m \u001b[0mss\u001b[0m\u001b[0;34m.\u001b[0m\u001b[0mtransform\u001b[0m\u001b[0;34m(\u001b[0m\u001b[0mtest_features\u001b[0m\u001b[0;34m)\u001b[0m\u001b[0;34m\u001b[0m\u001b[0m\n\u001b[0;32m----> 9\u001b[0;31m     \u001b[0mtest_features_pca\u001b[0m \u001b[0;34m=\u001b[0m \u001b[0mpca\u001b[0m\u001b[0;34m.\u001b[0m\u001b[0mtransform\u001b[0m\u001b[0;34m(\u001b[0m\u001b[0mtest_features_stand\u001b[0m\u001b[0;34m)\u001b[0m\u001b[0;34m\u001b[0m\u001b[0m\n\u001b[0m\u001b[1;32m     10\u001b[0m \u001b[0;34m\u001b[0m\u001b[0m\n\u001b[1;32m     11\u001b[0m     \u001b[0;31m# predict with the best estimator from the grid search\u001b[0m\u001b[0;34m\u001b[0m\u001b[0;34m\u001b[0m\u001b[0m\n",
      "\u001b[0;32m/Users/johnwalters/anaconda/lib/python2.7/site-packages/sklearn/decomposition/pca.pyc\u001b[0m in \u001b[0;36mtransform\u001b[0;34m(self, X)\u001b[0m\n\u001b[1;32m    386\u001b[0m         \u001b[0mX\u001b[0m \u001b[0;34m=\u001b[0m \u001b[0mcheck_array\u001b[0m\u001b[0;34m(\u001b[0m\u001b[0mX\u001b[0m\u001b[0;34m)\u001b[0m\u001b[0;34m\u001b[0m\u001b[0m\n\u001b[1;32m    387\u001b[0m         \u001b[0;32mif\u001b[0m \u001b[0mself\u001b[0m\u001b[0;34m.\u001b[0m\u001b[0mmean_\u001b[0m \u001b[0;32mis\u001b[0m \u001b[0;32mnot\u001b[0m \u001b[0mNone\u001b[0m\u001b[0;34m:\u001b[0m\u001b[0;34m\u001b[0m\u001b[0m\n\u001b[0;32m--> 388\u001b[0;31m             \u001b[0mX\u001b[0m \u001b[0;34m=\u001b[0m \u001b[0mX\u001b[0m \u001b[0;34m-\u001b[0m \u001b[0mself\u001b[0m\u001b[0;34m.\u001b[0m\u001b[0mmean_\u001b[0m\u001b[0;34m\u001b[0m\u001b[0m\n\u001b[0m\u001b[1;32m    389\u001b[0m         \u001b[0mX_transformed\u001b[0m \u001b[0;34m=\u001b[0m \u001b[0mfast_dot\u001b[0m\u001b[0;34m(\u001b[0m\u001b[0mX\u001b[0m\u001b[0;34m,\u001b[0m \u001b[0mself\u001b[0m\u001b[0;34m.\u001b[0m\u001b[0mcomponents_\u001b[0m\u001b[0;34m.\u001b[0m\u001b[0mT\u001b[0m\u001b[0;34m)\u001b[0m\u001b[0;34m\u001b[0m\u001b[0m\n\u001b[1;32m    390\u001b[0m         \u001b[0;32mif\u001b[0m \u001b[0mself\u001b[0m\u001b[0;34m.\u001b[0m\u001b[0mwhiten\u001b[0m\u001b[0;34m:\u001b[0m\u001b[0;34m\u001b[0m\u001b[0m\n",
      "\u001b[0;31mValueError\u001b[0m: operands could not be broadcast together with shapes (992,168046) (168742,) "
     ]
    }
   ],
   "source": [
    "sf = pd.read_csv(\"data/SubmissionFormat.csv\", index_col=0)\n",
    "\n",
    "def make_predictions(submission_format_df,output_filepath=\"my_submission.csv\"):\n",
    "    prediction_df = submission_format_df.copy()\n",
    "    \n",
    "    # create features\n",
    "    test_features = create_feature_matrix(submission_format_df)\n",
    "    test_features_stand = ss.transform(test_features)   \n",
    "    test_features_pca = pca.transform(test_features_stand)\n",
    "    \n",
    "    # predict with the best estimator from the grid search\n",
    "    preds = gs.best_estimator_.predict_proba(test_features_pca)\n",
    "    \n",
    "    # copy the predictions to the dataframe with the ids and\n",
    "    # write it out to a file\n",
    "    prediction_df.genus = preds[:, 1]\n",
    "    prediction_df.to_csv(output_filepath)\n",
    "    \n",
    "    return prediction_df\n",
    "    \n",
    "pred_df = make_predictions(sf, output_filepath=\"raw_hog_daisy_rbf.csv\")\n",
    "pred_df.head()"
   ]
  },
  {
   "cell_type": "code",
   "execution_count": 52,
   "metadata": {
    "collapsed": false
   },
   "outputs": [
    {
     "name": "stdout",
     "output_type": "stream",
     "text": [
      "Best parameters: {'kernel': 'poly', 'C': 1, 'degree': 5}\n",
      "Best score: 0.794330708661\n"
     ]
    }
   ],
   "source": [
    "print \"Best parameters:\", gs.best_params_\n",
    "print \"Best score:\", gs.best_score_"
   ]
  },
  {
   "cell_type": "code",
   "execution_count": 51,
   "metadata": {
    "collapsed": false
   },
   "outputs": [
    {
     "name": "stdout",
     "output_type": "stream",
     "text": [
      "Fitting 3 folds for each of 28 candidates, totalling 84 fits\n",
      "[CV] kernel=rbf, C=1, gamma=0.001 ....................................\n",
      "[CV] ........................... kernel=rbf, C=1, gamma=0.001 - 1.8min\n",
      "[CV] kernel=rbf, C=1, gamma=0.001 ....................................\n",
      "[CV] ........................... kernel=rbf, C=1, gamma=0.001 - 1.8min\n",
      "[CV] kernel=rbf, C=1, gamma=0.001 ....................................\n",
      "[CV] ........................... kernel=rbf, C=1, gamma=0.001 - 1.7min\n",
      "[CV] kernel=rbf, C=1, gamma=0.0001 ...................................\n",
      "[CV] .......................... kernel=rbf, C=1, gamma=0.0001 - 1.8min\n",
      "[CV] kernel=rbf, C=1, gamma=0.0001 ...................................\n",
      "[CV] .......................... kernel=rbf, C=1, gamma=0.0001 - 1.8min\n",
      "[CV] kernel=rbf, C=1, gamma=0.0001 ...................................\n",
      "[CV] .......................... kernel=rbf, C=1, gamma=0.0001 - 1.8min\n",
      "[CV] kernel=rbf, C=10, gamma=0.001 ...................................\n",
      "[CV] .......................... kernel=rbf, C=10, gamma=0.001 -11.9min\n",
      "[CV] kernel=rbf, C=10, gamma=0.001 ...................................\n",
      "[CV] .......................... kernel=rbf, C=10, gamma=0.001 - 1.7min\n",
      "[CV] kernel=rbf, C=10, gamma=0.001 ...................................\n",
      "[CV] .......................... kernel=rbf, C=10, gamma=0.001 - 1.8min\n",
      "[CV] kernel=rbf, C=10, gamma=0.0001 ..................................\n",
      "[CV] ......................... kernel=rbf, C=10, gamma=0.0001 - 1.8min\n",
      "[CV] kernel=rbf, C=10, gamma=0.0001 ..................................\n",
      "[CV] ......................... kernel=rbf, C=10, gamma=0.0001 - 1.7min\n",
      "[CV] kernel=rbf, C=10, gamma=0.0001 ..................................\n",
      "[CV] ......................... kernel=rbf, C=10, gamma=0.0001 - 1.7min\n",
      "[CV] kernel=rbf, C=100, gamma=0.001 ..................................\n",
      "[CV] ......................... kernel=rbf, C=100, gamma=0.001 - 1.8min\n",
      "[CV] kernel=rbf, C=100, gamma=0.001 ..................................\n",
      "[CV] ......................... kernel=rbf, C=100, gamma=0.001 - 1.8min\n",
      "[CV] kernel=rbf, C=100, gamma=0.001 ..................................\n",
      "[CV] ......................... kernel=rbf, C=100, gamma=0.001 - 1.8min\n",
      "[CV] kernel=rbf, C=100, gamma=0.0001 .................................\n",
      "[CV] ........................ kernel=rbf, C=100, gamma=0.0001 - 1.8min\n",
      "[CV] kernel=rbf, C=100, gamma=0.0001 .................................\n",
      "[CV] ........................ kernel=rbf, C=100, gamma=0.0001 - 7.4min\n",
      "[CV] kernel=rbf, C=100, gamma=0.0001 .................................\n",
      "[CV] ........................ kernel=rbf, C=100, gamma=0.0001 - 2.1min\n",
      "[CV] kernel=rbf, C=1000, gamma=0.001 .................................\n",
      "[CV] ........................ kernel=rbf, C=1000, gamma=0.001 - 1.8min\n",
      "[CV] kernel=rbf, C=1000, gamma=0.001 .................................\n",
      "[CV] ........................ kernel=rbf, C=1000, gamma=0.001 - 1.8min\n",
      "[CV] kernel=rbf, C=1000, gamma=0.001 .................................\n",
      "[CV] ........................ kernel=rbf, C=1000, gamma=0.001 - 1.7min\n",
      "[CV] kernel=rbf, C=1000, gamma=0.0001 ................................\n",
      "[CV] ....................... kernel=rbf, C=1000, gamma=0.0001 - 1.8min\n",
      "[CV] kernel=rbf, C=1000, gamma=0.0001 ................................\n",
      "[CV] ....................... kernel=rbf, C=1000, gamma=0.0001 - 1.9min\n",
      "[CV] kernel=rbf, C=1000, gamma=0.0001 ................................\n",
      "[CV] ....................... kernel=rbf, C=1000, gamma=0.0001 - 1.8min\n",
      "[CV] kernel=linear, C=1 ..............................................\n",
      "[CV] ..................................... kernel=linear, C=1 - 1.5min\n",
      "[CV] kernel=linear, C=1 ..............................................\n",
      "[CV] ..................................... kernel=linear, C=1 - 1.5min\n",
      "[CV] kernel=linear, C=1 ..............................................\n",
      "[CV] ..................................... kernel=linear, C=1 - 1.5min\n",
      "[CV] kernel=linear, C=10 .............................................\n",
      "[CV] .................................... kernel=linear, C=10 - 1.5min\n",
      "[CV] kernel=linear, C=10 .............................................\n",
      "[CV] .................................... kernel=linear, C=10 - 1.6min\n",
      "[CV] kernel=linear, C=10 .............................................\n",
      "[CV] .................................... kernel=linear, C=10 - 1.7min\n",
      "[CV] kernel=linear, C=100 ............................................\n",
      "[CV] ................................... kernel=linear, C=100 - 1.6min\n",
      "[CV] kernel=linear, C=100 ............................................\n",
      "[CV] ................................... kernel=linear, C=100 - 1.5min\n",
      "[CV] kernel=linear, C=100 ............................................\n",
      "[CV] ................................... kernel=linear, C=100 - 1.5min\n",
      "[CV] kernel=linear, C=1000 ...........................................\n",
      "[CV] .................................. kernel=linear, C=1000 - 1.6min\n",
      "[CV] kernel=linear, C=1000 ...........................................\n",
      "[CV] .................................. kernel=linear, C=1000 - 1.5min\n",
      "[CV] kernel=linear, C=1000 ...........................................\n",
      "[CV] .................................. kernel=linear, C=1000 - 1.5min\n",
      "[CV] kernel=poly, C=1, degree=2 ......................................\n",
      "[CV] ............................. kernel=poly, C=1, degree=2 - 1.8min\n",
      "[CV] kernel=poly, C=1, degree=2 ......................................\n",
      "[CV] ............................. kernel=poly, C=1, degree=2 - 1.7min\n",
      "[CV] kernel=poly, C=1, degree=2 ......................................\n",
      "[CV] ............................. kernel=poly, C=1, degree=2 - 1.7min\n",
      "[CV] kernel=poly, C=1, degree=3 ......................................\n",
      "[CV] ............................. kernel=poly, C=1, degree=3 - 1.7min\n",
      "[CV] kernel=poly, C=1, degree=3 ......................................\n",
      "[CV] ............................. kernel=poly, C=1, degree=3 - 1.7min"
     ]
    },
    {
     "name": "stderr",
     "output_type": "stream",
     "text": [
      "[Parallel(n_jobs=1)]: Done   1 jobs       | elapsed:  1.8min\n",
      "[Parallel(n_jobs=1)]: Done  41 jobs       | elapsed: 85.6min\n"
     ]
    },
    {
     "name": "stdout",
     "output_type": "stream",
     "text": [
      "\n",
      "[CV] kernel=poly, C=1, degree=3 ......................................\n",
      "[CV] ............................. kernel=poly, C=1, degree=3 - 1.7min\n",
      "[CV] kernel=poly, C=1, degree=4 ......................................\n",
      "[CV] ............................. kernel=poly, C=1, degree=4 - 1.7min\n",
      "[CV] kernel=poly, C=1, degree=4 ......................................\n",
      "[CV] ............................. kernel=poly, C=1, degree=4 - 1.8min\n",
      "[CV] kernel=poly, C=1, degree=4 ......................................\n",
      "[CV] ............................. kernel=poly, C=1, degree=4 - 1.7min\n",
      "[CV] kernel=poly, C=1, degree=5 ......................................\n",
      "[CV] ............................. kernel=poly, C=1, degree=5 - 1.8min\n",
      "[CV] kernel=poly, C=1, degree=5 ......................................\n",
      "[CV] ............................. kernel=poly, C=1, degree=5 - 1.8min\n",
      "[CV] kernel=poly, C=1, degree=5 ......................................\n",
      "[CV] ............................. kernel=poly, C=1, degree=5 - 1.8min\n",
      "[CV] kernel=poly, C=10, degree=2 .....................................\n",
      "[CV] ............................ kernel=poly, C=10, degree=2 - 1.7min\n",
      "[CV] kernel=poly, C=10, degree=2 .....................................\n",
      "[CV] ............................ kernel=poly, C=10, degree=2 - 1.7min\n",
      "[CV] kernel=poly, C=10, degree=2 .....................................\n",
      "[CV] ............................ kernel=poly, C=10, degree=2 - 1.7min\n",
      "[CV] kernel=poly, C=10, degree=3 .....................................\n",
      "[CV] ............................ kernel=poly, C=10, degree=3 - 1.8min\n",
      "[CV] kernel=poly, C=10, degree=3 .....................................\n",
      "[CV] ............................ kernel=poly, C=10, degree=3 - 1.7min\n",
      "[CV] kernel=poly, C=10, degree=3 .....................................\n",
      "[CV] ............................ kernel=poly, C=10, degree=3 - 1.7min\n",
      "[CV] kernel=poly, C=10, degree=4 .....................................\n",
      "[CV] ............................ kernel=poly, C=10, degree=4 - 1.8min\n",
      "[CV] kernel=poly, C=10, degree=4 .....................................\n",
      "[CV] ............................ kernel=poly, C=10, degree=4 - 1.8min\n",
      "[CV] kernel=poly, C=10, degree=4 .....................................\n",
      "[CV] ............................ kernel=poly, C=10, degree=4 - 1.8min\n",
      "[CV] kernel=poly, C=10, degree=5 .....................................\n",
      "[CV] ............................ kernel=poly, C=10, degree=5 - 2.0min\n",
      "[CV] kernel=poly, C=10, degree=5 .....................................\n",
      "[CV] ............................ kernel=poly, C=10, degree=5 - 1.9min\n",
      "[CV] kernel=poly, C=10, degree=5 .....................................\n",
      "[CV] ............................ kernel=poly, C=10, degree=5 - 1.9min\n",
      "[CV] kernel=poly, C=100, degree=2 ....................................\n",
      "[CV] ........................... kernel=poly, C=100, degree=2 - 1.7min\n",
      "[CV] kernel=poly, C=100, degree=2 ....................................\n",
      "[CV] ........................... kernel=poly, C=100, degree=2 - 1.8min\n",
      "[CV] kernel=poly, C=100, degree=2 ....................................\n",
      "[CV] ........................... kernel=poly, C=100, degree=2 - 1.7min\n",
      "[CV] kernel=poly, C=100, degree=3 ....................................\n",
      "[CV] ........................... kernel=poly, C=100, degree=3 - 1.7min\n",
      "[CV] kernel=poly, C=100, degree=3 ....................................\n",
      "[CV] ........................... kernel=poly, C=100, degree=3 - 1.8min\n",
      "[CV] kernel=poly, C=100, degree=3 ....................................\n",
      "[CV] ........................... kernel=poly, C=100, degree=3 - 1.8min\n",
      "[CV] kernel=poly, C=100, degree=4 ....................................\n",
      "[CV] ........................... kernel=poly, C=100, degree=4 - 1.7min\n",
      "[CV] kernel=poly, C=100, degree=4 ....................................\n",
      "[CV] ........................... kernel=poly, C=100, degree=4 - 1.7min\n",
      "[CV] kernel=poly, C=100, degree=4 ....................................\n",
      "[CV] ........................... kernel=poly, C=100, degree=4 - 1.7min\n",
      "[CV] kernel=poly, C=100, degree=5 ....................................\n",
      "[CV] ........................... kernel=poly, C=100, degree=5 - 1.9min\n",
      "[CV] kernel=poly, C=100, degree=5 ....................................\n",
      "[CV] ........................... kernel=poly, C=100, degree=5 - 1.9min\n",
      "[CV] kernel=poly, C=100, degree=5 ....................................\n",
      "[CV] ........................... kernel=poly, C=100, degree=5 - 1.8min\n",
      "[CV] kernel=poly, C=1000, degree=2 ...................................\n",
      "[CV] .......................... kernel=poly, C=1000, degree=2 - 1.8min\n",
      "[CV] kernel=poly, C=1000, degree=2 ...................................\n",
      "[CV] .......................... kernel=poly, C=1000, degree=2 - 1.8min\n",
      "[CV] kernel=poly, C=1000, degree=2 ...................................\n",
      "[CV] .......................... kernel=poly, C=1000, degree=2 - 1.7min\n",
      "[CV] kernel=poly, C=1000, degree=3 ...................................\n",
      "[CV] .......................... kernel=poly, C=1000, degree=3 - 1.8min\n",
      "[CV] kernel=poly, C=1000, degree=3 ...................................\n",
      "[CV] .......................... kernel=poly, C=1000, degree=3 - 1.8min\n",
      "[CV] kernel=poly, C=1000, degree=3 ...................................\n",
      "[CV] .......................... kernel=poly, C=1000, degree=3 - 1.7min\n",
      "[CV] kernel=poly, C=1000, degree=4 ...................................\n",
      "[CV] .......................... kernel=poly, C=1000, degree=4 - 1.8min\n",
      "[CV] kernel=poly, C=1000, degree=4 ...................................\n",
      "[CV] .......................... kernel=poly, C=1000, degree=4 - 1.8min\n",
      "[CV] kernel=poly, C=1000, degree=4 ...................................\n",
      "[CV] .......................... kernel=poly, C=1000, degree=4 - 1.7min\n",
      "[CV] kernel=poly, C=1000, degree=5 ...................................\n",
      "[CV] .......................... kernel=poly, C=1000, degree=5 - 1.9min\n",
      "[CV] kernel=poly, C=1000, degree=5 ...................................\n",
      "[CV] .......................... kernel=poly, C=1000, degree=5 - 1.9min\n",
      "[CV] kernel=poly, C=1000, degree=5 ...................................\n",
      "[CV] .......................... kernel=poly, C=1000, degree=5 - 1.9min\n"
     ]
    },
    {
     "name": "stderr",
     "output_type": "stream",
     "text": [
      "[Parallel(n_jobs=1)]: Done  84 out of  84 | elapsed: 162.5min finished\n"
     ]
    },
    {
     "data": {
      "text/plain": [
       "GridSearchCV(cv=3, error_score='raise',\n",
       "       estimator=SVC(C=1.0, cache_size=200, class_weight='auto', coef0=0.0, degree=3,\n",
       "  gamma=0.0, kernel='rbf', max_iter=-1, probability=True,\n",
       "  random_state=None, shrinking=True, tol=0.001, verbose=False),\n",
       "       fit_params={}, iid=True, loss_func=None, n_jobs=1,\n",
       "       param_grid=[{'kernel': ['rbf'], 'C': [1, 10, 100, 1000], 'gamma': [0.001, 0.0001]}, {'kernel': ['linear'], 'C': [1, 10, 100, 1000]}, {'kernel': ['poly'], 'C': [1, 10, 100, 1000], 'degree': [2, 3, 4, 5]}],\n",
       "       pre_dispatch='2*n_jobs', refit=True, score_func=None, scoring=None,\n",
       "       verbose=2)"
      ]
     },
     "execution_count": 51,
     "metadata": {},
     "output_type": "execute_result"
    }
   ],
   "source": [
    "tuned_parameters = [{'kernel': ['rbf'], 'gamma': [1e-3, 1e-4],\n",
    "                    'C': [1, 10, 100, 1000]},\n",
    "                   {'kernel': ['linear'], 'C': [1, 10, 100, 1000]},\n",
    "                  {'kernel': ['poly'], 'degree': [2, 3, 4 , 5],\n",
    "                    'C': [1, 10, 100, 1000]}]\n",
    "\n",
    "svc = svm.SVC()\n",
    "\n",
    "gs = GridSearchCV(svm.SVC(class_weight='auto', probability=True),param_grid=tuned_parameters, cv = 3, verbose= 2)\n",
    "gs.fit(X_train, y_train)"
   ]
  },
  {
   "cell_type": "code",
   "execution_count": 60,
   "metadata": {
    "collapsed": false,
    "scrolled": true
   },
   "outputs": [
    {
     "data": {
      "text/plain": [
       "{'cv': 3,\n",
       " 'error_score': 'raise',\n",
       " 'estimator': SVC(C=1.0, cache_size=200, class_weight='auto', coef0=0.0, degree=3,\n",
       "   gamma=0.0, kernel='rbf', max_iter=-1, probability=True,\n",
       "   random_state=None, shrinking=True, tol=0.001, verbose=False),\n",
       " 'estimator__C': 1.0,\n",
       " 'estimator__cache_size': 200,\n",
       " 'estimator__class_weight': 'auto',\n",
       " 'estimator__coef0': 0.0,\n",
       " 'estimator__degree': 3,\n",
       " 'estimator__gamma': 0.0,\n",
       " 'estimator__kernel': 'rbf',\n",
       " 'estimator__max_iter': -1,\n",
       " 'estimator__probability': True,\n",
       " 'estimator__random_state': None,\n",
       " 'estimator__shrinking': True,\n",
       " 'estimator__tol': 0.001,\n",
       " 'estimator__verbose': False,\n",
       " 'fit_params': {},\n",
       " 'iid': True,\n",
       " 'loss_func': None,\n",
       " 'n_jobs': 1,\n",
       " 'param_grid': [{'C': [1, 10, 100, 1000],\n",
       "   'gamma': [0.001, 0.0001],\n",
       "   'kernel': ['rbf']},\n",
       "  {'C': [1, 10, 100, 1000], 'kernel': ['linear']},\n",
       "  {'C': [1, 10, 100, 1000], 'degree': [2, 3, 4, 5], 'kernel': ['poly']}],\n",
       " 'pre_dispatch': '2*n_jobs',\n",
       " 'refit': True,\n",
       " 'score_func': None,\n",
       " 'scoring': None,\n",
       " 'verbose': 2}"
      ]
     },
     "execution_count": 60,
     "metadata": {},
     "output_type": "execute_result"
    }
   ],
   "source": [
    "gs.get_params()"
   ]
  },
  {
   "cell_type": "code",
   "execution_count": 62,
   "metadata": {
    "collapsed": false
   },
   "outputs": [
    {
     "data": {
      "text/plain": [
       "0.79471032745591941"
      ]
     },
     "execution_count": 62,
     "metadata": {},
     "output_type": "execute_result"
    }
   ],
   "source": [
    "gs.score(X_test, y_test)"
   ]
  }
 ],
 "metadata": {
  "kernelspec": {
   "display_name": "Python 2",
   "language": "python",
   "name": "python2"
  },
  "language_info": {
   "codemirror_mode": {
    "name": "ipython",
    "version": 2
   },
   "file_extension": ".py",
   "mimetype": "text/x-python",
   "name": "python",
   "nbconvert_exporter": "python",
   "pygments_lexer": "ipython2",
   "version": "2.7.10"
  }
 },
 "nbformat": 4,
 "nbformat_minor": 0
}
